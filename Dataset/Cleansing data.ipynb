{
  "cells": [
    {
      "cell_type": "code",
      "execution_count": null,
      "metadata": {
        "colab": {
          "base_uri": "https://localhost:8080/"
        },
        "id": "rkF3nxReZUgX",
        "outputId": "343908de-ad6c-4ca3-f4c7-768afe112d6d"
      },
      "outputs": [
        {
          "output_type": "stream",
          "name": "stdout",
          "text": [
            "Collecting spotipy\n",
            "  Downloading spotipy-2.23.0-py3-none-any.whl (29 kB)\n",
            "Collecting redis>=3.5.3 (from spotipy)\n",
            "  Downloading redis-5.0.4-py3-none-any.whl (251 kB)\n",
            "\u001b[2K     \u001b[90m━━━━━━━━━━━━━━━━━━━━━━━━━━━━━━━━━━━━━━━━\u001b[0m \u001b[32m252.0/252.0 kB\u001b[0m \u001b[31m6.2 MB/s\u001b[0m eta \u001b[36m0:00:00\u001b[0m\n",
            "\u001b[?25hRequirement already satisfied: requests>=2.25.0 in /usr/local/lib/python3.10/dist-packages (from spotipy) (2.31.0)\n",
            "Requirement already satisfied: six>=1.15.0 in /usr/local/lib/python3.10/dist-packages (from spotipy) (1.16.0)\n",
            "Requirement already satisfied: urllib3>=1.26.0 in /usr/local/lib/python3.10/dist-packages (from spotipy) (2.0.7)\n",
            "Requirement already satisfied: async-timeout>=4.0.3 in /usr/local/lib/python3.10/dist-packages (from redis>=3.5.3->spotipy) (4.0.3)\n",
            "Requirement already satisfied: charset-normalizer<4,>=2 in /usr/local/lib/python3.10/dist-packages (from requests>=2.25.0->spotipy) (3.3.2)\n",
            "Requirement already satisfied: idna<4,>=2.5 in /usr/local/lib/python3.10/dist-packages (from requests>=2.25.0->spotipy) (3.7)\n",
            "Requirement already satisfied: certifi>=2017.4.17 in /usr/local/lib/python3.10/dist-packages (from requests>=2.25.0->spotipy) (2024.2.2)\n",
            "Installing collected packages: redis, spotipy\n",
            "Successfully installed redis-5.0.4 spotipy-2.23.0\n"
          ]
        }
      ],
      "source": [
        "!pip install spotipy"
      ]
    },
    {
      "cell_type": "code",
      "execution_count": null,
      "metadata": {
        "id": "88CzDpMdir0y"
      },
      "outputs": [],
      "source": [
        "import requests\n",
        "import pandas as pd\n",
        "import spotipy\n",
        "from spotipy.oauth2 import SpotifyClientCredentials"
      ]
    },
    {
      "cell_type": "code",
      "execution_count": null,
      "metadata": {
        "id": "KSLzYmYaisOq"
      },
      "outputs": [],
      "source": [
        "client_id = '4f8e9219c71d42498f6724a465505cb9'\n",
        "client_secret = '284f7ae276594d4b80219ba6e022cef2'\n",
        "spotify = spotipy.Spotify(client_credentials_manager=SpotifyClientCredentials(client_id=client_id, client_secret=client_secret))"
      ]
    },
    {
      "cell_type": "code",
      "execution_count": null,
      "metadata": {
        "colab": {
          "base_uri": "https://localhost:8080/"
        },
        "id": "5-uLo3eNitQB",
        "outputId": "03e8ffbc-6203-4db1-843b-30623bca5347"
      },
      "outputs": [
        {
          "output_type": "stream",
          "name": "stdout",
          "text": [
            "Mounted at /content/drive\n"
          ]
        }
      ],
      "source": [
        "from google.colab import drive\n",
        "drive.mount('/content/drive')"
      ]
    },
    {
      "cell_type": "code",
      "execution_count": null,
      "metadata": {
        "colab": {
          "base_uri": "https://localhost:8080/"
        },
        "id": "mOdzd4uCiuW1",
        "outputId": "5fe473ef-6b4c-4d58-a882-38384edeb2e2"
      },
      "outputs": [
        {
          "output_type": "stream",
          "name": "stdout",
          "text": [
            "[{'external_urls': {'spotify': 'https://open.spotify.com/artist/6kFaOeTEkeGZ7oDqJDhC2q'}, 'href': 'https://api.spotify.com/v1/artists/6kFaOeTEkeGZ7oDqJDhC2q', 'id': '6kFaOeTEkeGZ7oDqJDhC2q', 'name': 'La Kultura', 'type': 'artist', 'uri': 'spotify:artist:6kFaOeTEkeGZ7oDqJDhC2q'}]\n",
            "6kFaOeTEkeGZ7oDqJDhC2q La Kultura\n"
          ]
        }
      ],
      "source": [
        "import spotipy\n",
        "from spotipy.oauth2 import SpotifyClientCredentials\n",
        "\n",
        "client_id = '4f8e9219c71d42498f6724a465505cb9'\n",
        "client_secret = '284f7ae276594d4b80219ba6e022cef2'\n",
        "spotify = spotipy.Spotify(client_credentials_manager=SpotifyClientCredentials(client_id=client_id, client_secret=client_secret))\n",
        "\n",
        "results = spotify.track(\"16CJ6odC94xBPLaFTSReo1\")\n",
        "print(results['artists'])\n",
        "for x in results['artists']:\n",
        "  print(x['id'], x['name'])"
      ]
    },
    {
      "cell_type": "markdown",
      "source": [
        "# **Crawl artist**"
      ],
      "metadata": {
        "id": "Z58xnX9P158J"
      }
    },
    {
      "cell_type": "code",
      "source": [
        "# Đọc file album.csv\n",
        "album_df = pd.read_csv(\"/content/drive/My Drive/Kì 6/OLAP TNTN+LTD/dataset/spotify-albums_data_2023.csv\")\n",
        "\n",
        "# Tạo các cột artist_id và artist_name nếu chưa có\n",
        "if 'artist_id' not in album_df.columns:\n",
        "    album_df['artist_id'] = ''\n",
        "if 'artist_name' not in album_df.columns:\n",
        "    album_df['artist_name'] = ''\n",
        "\n",
        "# Duyệt qua từng track_id và cập nhật thông tin nghệ sĩ\n",
        "for index, row in album_df.iterrows():\n",
        "    track_id = row['track_id']\n",
        "    try:\n",
        "        results = spotify.track(track_id)\n",
        "        if results['artists']:\n",
        "            first_artist = results['artists'][0]\n",
        "            artist_id = first_artist['id']\n",
        "            artist_name = first_artist['name']\n",
        "\n",
        "            # Cập nhật vào DataFrame\n",
        "            album_df.at[index, 'artist_id'] = artist_id\n",
        "            album_df.at[index, 'artist_name'] = artist_name\n",
        "    except Exception as e:\n",
        "        print(f\"Error fetching data for track_id {track_id}: {e}\")\n",
        "\n",
        "# Lưu lại file album.csv\n",
        "album_df.to_csv('album.csv', index=False)\n",
        "\n",
        "# Đọc file artist.csv\n",
        "artist_df = pd.read_csv(\"/content/drive/My Drive/Kì 6/OLAP TNTN+LTD/dataset/spotify_artist_data_2023.csv\")\n",
        "\n",
        "# Cập nhật thông tin nghệ sĩ trong artist.csv nếu cần\n",
        "for index, row in artist_df.iterrows():\n",
        "    artist_id = row['id']\n",
        "    # Tìm trong album_df để lấy tên nghệ sĩ\n",
        "    matching_artist = album_df[album_df['artist_id'] == artist_id]\n",
        "    if not matching_artist.empty:\n",
        "        artist_name = matching_artist.iloc[0]['artist_name']\n",
        "        # Cập nhật tên nghệ sĩ\n",
        "        artist_df.at[index, 'name'] = artist_name\n",
        "\n",
        "# Lưu lại file artist.csv\n",
        "artist_df.to_csv('artist.csv', index=False)"
      ],
      "metadata": {
        "id": "6Zti8yMx18RA"
      },
      "execution_count": null,
      "outputs": []
    },
    {
      "cell_type": "markdown",
      "metadata": {
        "id": "KnywuGEx0SIN"
      },
      "source": [
        "# **Tiền xử lý**"
      ]
    },
    {
      "cell_type": "code",
      "execution_count": null,
      "metadata": {
        "id": "34STovEfjV3d"
      },
      "outputs": [],
      "source": [
        "import pandas as pd\n",
        "import re\n",
        "from google.colab import drive\n",
        "\n",
        "# Biểu thức chính quy để tìm các kí tự không mong muốn\n",
        "pattern = r'[^\\x00-\\x7F]'\n",
        "\n",
        "# Hàm kiểm tra xem một chuỗi có chứa kí tự không mong muốn hay không\n",
        "def contains_unwanted_chars(text):\n",
        "    if re.search(pattern, str(text)):\n",
        "        return True\n",
        "    return False"
      ]
    },
    {
      "cell_type": "code",
      "execution_count": null,
      "metadata": {
        "id": "YffGCJWqYkkB"
      },
      "outputs": [],
      "source": [
        "def contains_non_english(text):\n",
        "    # Sử dụng regex để kiểm tra xem chuỗi có ký tự không phải là tiếng Anh không\n",
        "    return not bool(re.match(r'^[a-zA-Z\\s]*$', str(text)))"
      ]
    },
    {
      "cell_type": "markdown",
      "metadata": {
        "id": "BGRknPRh04Hb"
      },
      "source": [
        "**Track file**"
      ]
    },
    {
      "cell_type": "code",
      "execution_count": null,
      "metadata": {
        "id": "ZDetoNaX11H3"
      },
      "outputs": [],
      "source": [
        "# Đọc dữ liệu\n",
        "df = pd.read_csv(\"/content/drive/My Drive/Kì 6/OLAP TNTN+LTD/dataset/spotify_tracks_data_2023.csv\")\n",
        "\n",
        "# Giữ lại các dòng có cột \"id\" là duy nhất\n",
        "filtered_df = df.drop_duplicates(subset=['id'])\n",
        "\n",
        "# Xóa rỗng\n",
        "filtered_df = filtered_df.dropna()\n",
        "\n",
        "# Lưu DataFrame đã lọc vào file CSV mới\n",
        "output_path = 'filtered_track.xlsx'\n",
        "filtered_df.to_excel(output_path, index=False)"
      ]
    },
    {
      "cell_type": "markdown",
      "metadata": {
        "id": "jAOEhtG8MfRz"
      },
      "source": [
        "**Feature file**"
      ]
    },
    {
      "cell_type": "code",
      "execution_count": null,
      "metadata": {
        "id": "GkJKAIk6MiR5"
      },
      "outputs": [],
      "source": [
        "# Đọc dữ liệu\n",
        "df = pd.read_csv(\"/content/drive/My Drive/Kì 6/OLAP TNTN+LTD/dataset/spotify_features_data_2023.csv\")\n",
        "\n",
        "# Giữ lại các dòng có cột \"id\" là duy nhất\n",
        "filtered_df = df.drop_duplicates(subset=['id'])\n",
        "\n",
        "# Xóa rỗng\n",
        "filtered_df = filtered_df.dropna()\n",
        "\n",
        "# Lưu DataFrame đã lọc vào file CSV mới\n",
        "output_path = 'filtered_feature.xlsx'\n",
        "filtered_df.to_excel(output_path, index=False)"
      ]
    },
    {
      "cell_type": "markdown",
      "metadata": {
        "id": "NItIpwuS2Wdc"
      },
      "source": [
        "**Artist file**"
      ]
    },
    {
      "cell_type": "code",
      "execution_count": null,
      "metadata": {
        "id": "nYb7uH0Z0mUX",
        "colab": {
          "base_uri": "https://localhost:8080/",
          "height": 477
        },
        "outputId": "db99f00a-feb9-45db-a977-f8a0c96265b3"
      },
      "outputs": [
        {
          "output_type": "error",
          "ename": "KeyError",
          "evalue": "'genre'",
          "traceback": [
            "\u001b[0;31m---------------------------------------------------------------------------\u001b[0m",
            "\u001b[0;31mKeyError\u001b[0m                                  Traceback (most recent call last)",
            "\u001b[0;32m/usr/local/lib/python3.10/dist-packages/pandas/core/indexes/base.py\u001b[0m in \u001b[0;36mget_loc\u001b[0;34m(self, key)\u001b[0m\n\u001b[1;32m   3652\u001b[0m         \u001b[0;32mtry\u001b[0m\u001b[0;34m:\u001b[0m\u001b[0;34m\u001b[0m\u001b[0;34m\u001b[0m\u001b[0m\n\u001b[0;32m-> 3653\u001b[0;31m             \u001b[0;32mreturn\u001b[0m \u001b[0mself\u001b[0m\u001b[0;34m.\u001b[0m\u001b[0m_engine\u001b[0m\u001b[0;34m.\u001b[0m\u001b[0mget_loc\u001b[0m\u001b[0;34m(\u001b[0m\u001b[0mcasted_key\u001b[0m\u001b[0;34m)\u001b[0m\u001b[0;34m\u001b[0m\u001b[0;34m\u001b[0m\u001b[0m\n\u001b[0m\u001b[1;32m   3654\u001b[0m         \u001b[0;32mexcept\u001b[0m \u001b[0mKeyError\u001b[0m \u001b[0;32mas\u001b[0m \u001b[0merr\u001b[0m\u001b[0;34m:\u001b[0m\u001b[0;34m\u001b[0m\u001b[0;34m\u001b[0m\u001b[0m\n",
            "\u001b[0;32m/usr/local/lib/python3.10/dist-packages/pandas/_libs/index.pyx\u001b[0m in \u001b[0;36mpandas._libs.index.IndexEngine.get_loc\u001b[0;34m()\u001b[0m\n",
            "\u001b[0;32m/usr/local/lib/python3.10/dist-packages/pandas/_libs/index.pyx\u001b[0m in \u001b[0;36mpandas._libs.index.IndexEngine.get_loc\u001b[0;34m()\u001b[0m\n",
            "\u001b[0;32mpandas/_libs/hashtable_class_helper.pxi\u001b[0m in \u001b[0;36mpandas._libs.hashtable.PyObjectHashTable.get_item\u001b[0;34m()\u001b[0m\n",
            "\u001b[0;32mpandas/_libs/hashtable_class_helper.pxi\u001b[0m in \u001b[0;36mpandas._libs.hashtable.PyObjectHashTable.get_item\u001b[0;34m()\u001b[0m\n",
            "\u001b[0;31mKeyError\u001b[0m: 'genre'",
            "\nThe above exception was the direct cause of the following exception:\n",
            "\u001b[0;31mKeyError\u001b[0m                                  Traceback (most recent call last)",
            "\u001b[0;32m<ipython-input-14-a3e00d44d7e0>\u001b[0m in \u001b[0;36m<cell line: 25>\u001b[0;34m()\u001b[0m\n\u001b[1;32m     23\u001b[0m \u001b[0;34m\u001b[0m\u001b[0m\n\u001b[1;32m     24\u001b[0m \u001b[0;31m# Xóa những dòng có cột \"genre\" là []\u001b[0m\u001b[0;34m\u001b[0m\u001b[0;34m\u001b[0m\u001b[0m\n\u001b[0;32m---> 25\u001b[0;31m \u001b[0mfiltered_df\u001b[0m \u001b[0;34m=\u001b[0m \u001b[0mfiltered_df\u001b[0m\u001b[0;34m[\u001b[0m\u001b[0mfiltered_df\u001b[0m\u001b[0;34m[\u001b[0m\u001b[0;34m'genre'\u001b[0m\u001b[0;34m]\u001b[0m \u001b[0;34m!=\u001b[0m \u001b[0;34m'[]'\u001b[0m\u001b[0;34m]\u001b[0m\u001b[0;34m\u001b[0m\u001b[0;34m\u001b[0m\u001b[0m\n\u001b[0m\u001b[1;32m     26\u001b[0m \u001b[0;34m\u001b[0m\u001b[0m\n\u001b[1;32m     27\u001b[0m \u001b[0;31m# Xóa rỗng\u001b[0m\u001b[0;34m\u001b[0m\u001b[0;34m\u001b[0m\u001b[0m\n",
            "\u001b[0;32m/usr/local/lib/python3.10/dist-packages/pandas/core/frame.py\u001b[0m in \u001b[0;36m__getitem__\u001b[0;34m(self, key)\u001b[0m\n\u001b[1;32m   3759\u001b[0m             \u001b[0;32mif\u001b[0m \u001b[0mself\u001b[0m\u001b[0;34m.\u001b[0m\u001b[0mcolumns\u001b[0m\u001b[0;34m.\u001b[0m\u001b[0mnlevels\u001b[0m \u001b[0;34m>\u001b[0m \u001b[0;36m1\u001b[0m\u001b[0;34m:\u001b[0m\u001b[0;34m\u001b[0m\u001b[0;34m\u001b[0m\u001b[0m\n\u001b[1;32m   3760\u001b[0m                 \u001b[0;32mreturn\u001b[0m \u001b[0mself\u001b[0m\u001b[0;34m.\u001b[0m\u001b[0m_getitem_multilevel\u001b[0m\u001b[0;34m(\u001b[0m\u001b[0mkey\u001b[0m\u001b[0;34m)\u001b[0m\u001b[0;34m\u001b[0m\u001b[0;34m\u001b[0m\u001b[0m\n\u001b[0;32m-> 3761\u001b[0;31m             \u001b[0mindexer\u001b[0m \u001b[0;34m=\u001b[0m \u001b[0mself\u001b[0m\u001b[0;34m.\u001b[0m\u001b[0mcolumns\u001b[0m\u001b[0;34m.\u001b[0m\u001b[0mget_loc\u001b[0m\u001b[0;34m(\u001b[0m\u001b[0mkey\u001b[0m\u001b[0;34m)\u001b[0m\u001b[0;34m\u001b[0m\u001b[0;34m\u001b[0m\u001b[0m\n\u001b[0m\u001b[1;32m   3762\u001b[0m             \u001b[0;32mif\u001b[0m \u001b[0mis_integer\u001b[0m\u001b[0;34m(\u001b[0m\u001b[0mindexer\u001b[0m\u001b[0;34m)\u001b[0m\u001b[0;34m:\u001b[0m\u001b[0;34m\u001b[0m\u001b[0;34m\u001b[0m\u001b[0m\n\u001b[1;32m   3763\u001b[0m                 \u001b[0mindexer\u001b[0m \u001b[0;34m=\u001b[0m \u001b[0;34m[\u001b[0m\u001b[0mindexer\u001b[0m\u001b[0;34m]\u001b[0m\u001b[0;34m\u001b[0m\u001b[0;34m\u001b[0m\u001b[0m\n",
            "\u001b[0;32m/usr/local/lib/python3.10/dist-packages/pandas/core/indexes/base.py\u001b[0m in \u001b[0;36mget_loc\u001b[0;34m(self, key)\u001b[0m\n\u001b[1;32m   3653\u001b[0m             \u001b[0;32mreturn\u001b[0m \u001b[0mself\u001b[0m\u001b[0;34m.\u001b[0m\u001b[0m_engine\u001b[0m\u001b[0;34m.\u001b[0m\u001b[0mget_loc\u001b[0m\u001b[0;34m(\u001b[0m\u001b[0mcasted_key\u001b[0m\u001b[0;34m)\u001b[0m\u001b[0;34m\u001b[0m\u001b[0;34m\u001b[0m\u001b[0m\n\u001b[1;32m   3654\u001b[0m         \u001b[0;32mexcept\u001b[0m \u001b[0mKeyError\u001b[0m \u001b[0;32mas\u001b[0m \u001b[0merr\u001b[0m\u001b[0;34m:\u001b[0m\u001b[0;34m\u001b[0m\u001b[0;34m\u001b[0m\u001b[0m\n\u001b[0;32m-> 3655\u001b[0;31m             \u001b[0;32mraise\u001b[0m \u001b[0mKeyError\u001b[0m\u001b[0;34m(\u001b[0m\u001b[0mkey\u001b[0m\u001b[0;34m)\u001b[0m \u001b[0;32mfrom\u001b[0m \u001b[0merr\u001b[0m\u001b[0;34m\u001b[0m\u001b[0;34m\u001b[0m\u001b[0m\n\u001b[0m\u001b[1;32m   3656\u001b[0m         \u001b[0;32mexcept\u001b[0m \u001b[0mTypeError\u001b[0m\u001b[0;34m:\u001b[0m\u001b[0;34m\u001b[0m\u001b[0;34m\u001b[0m\u001b[0m\n\u001b[1;32m   3657\u001b[0m             \u001b[0;31m# If we have a listlike key, _check_indexing_error will raise\u001b[0m\u001b[0;34m\u001b[0m\u001b[0;34m\u001b[0m\u001b[0m\n",
            "\u001b[0;31mKeyError\u001b[0m: 'genre'"
          ]
        }
      ],
      "source": [
        "# Đọc dữ liệu\n",
        "df = pd.read_csv(\"/content/drive/My Drive/Kì 6/OLAP TNTN+LTD/dataset/spotify_artist_data_2023.csv\"\n",
        ", usecols=lambda column: column not in ['genre_0', 'genre_1', 'genre_2', 'genre_3', 'genre_4', 'genre_5', 'genre_6'])\n",
        "\n",
        "# Lọc các hàng chứa kí tự không mong muốn\n",
        "filtered_df = df[~(df['name'].apply(contains_unwanted_chars))]\n",
        "\n",
        "# Loại bỏ các dòng chứa ký tự không phải ASCII\n",
        "filtered_df = filtered_df[filtered_df.applymap(lambda x: all(ord(c) < 128 for c in str(x)))]\n",
        "\n",
        "# Loại bỏ các hàng có giá trị '#NAME?' trong bất kỳ cột nào\n",
        "filtered_df = filtered_df[(filtered_df != '#NAME?')]\n",
        "\n",
        "# Xóa dòng có giá trị bắt đầu bằng số hoặc kí tự đặc biệt\n",
        "pattern = r'^[^a-zA-Z]'  # Kí tự bắt đầu không phải là chữ cái\n",
        "filtered_df = filtered_df[~filtered_df['name'].astype(str).str.match(pattern)]\n",
        "\n",
        "# Xóa dòng chứa kí tự $\n",
        "filtered_df = filtered_df[~filtered_df['name'].astype(str).str.contains('\\$')]\n",
        "\n",
        "# Giữ lại các dòng có cột \"id\" là duy nhất\n",
        "filtered_df = filtered_df.drop_duplicates(subset=['id'])\n",
        "\n",
        "# Xóa rỗng\n",
        "filtered_df = filtered_df.dropna()\n",
        "\n",
        "# Lưu DataFrame đã lọc vào file CSV mới\n",
        "output_path = 'filtered_artist.xlsx'\n",
        "filtered_df.to_excel(output_path, index=False)"
      ]
    },
    {
      "cell_type": "code",
      "source": [],
      "metadata": {
        "id": "YjvCWWQ_LXi5"
      },
      "execution_count": null,
      "outputs": []
    },
    {
      "cell_type": "markdown",
      "metadata": {
        "id": "JyCxweuJ3a8s"
      },
      "source": [
        "**Album file**"
      ]
    },
    {
      "cell_type": "code",
      "execution_count": null,
      "metadata": {
        "id": "i6xPQQTV3dV5",
        "colab": {
          "base_uri": "https://localhost:8080/",
          "height": 356
        },
        "outputId": "43cb3041-36c5-49c4-ee49-de742789bbc5"
      },
      "outputs": [
        {
          "output_type": "error",
          "ename": "KeyboardInterrupt",
          "evalue": "",
          "traceback": [
            "\u001b[0;31m---------------------------------------------------------------------------\u001b[0m",
            "\u001b[0;31mKeyboardInterrupt\u001b[0m                         Traceback (most recent call last)",
            "\u001b[0;32m<ipython-input-12-858fb4283764>\u001b[0m in \u001b[0;36m<cell line: 34>\u001b[0;34m()\u001b[0m\n\u001b[1;32m     32\u001b[0m \u001b[0;34m\u001b[0m\u001b[0m\n\u001b[1;32m     33\u001b[0m \u001b[0;31m# Loại bỏ các dòng chứa giá trị không phải mã UTF-8\u001b[0m\u001b[0;34m\u001b[0m\u001b[0;34m\u001b[0m\u001b[0m\n\u001b[0;32m---> 34\u001b[0;31m \u001b[0mfiltered_df\u001b[0m \u001b[0;34m=\u001b[0m \u001b[0mdf\u001b[0m\u001b[0;34m[\u001b[0m\u001b[0mdf\u001b[0m\u001b[0;34m.\u001b[0m\u001b[0mapply\u001b[0m\u001b[0;34m(\u001b[0m\u001b[0;32mlambda\u001b[0m \u001b[0mx\u001b[0m\u001b[0;34m:\u001b[0m \u001b[0mall\u001b[0m\u001b[0;34m(\u001b[0m\u001b[0mc\u001b[0m \u001b[0;32min\u001b[0m \u001b[0mset\u001b[0m\u001b[0;34m(\u001b[0m\u001b[0mmap\u001b[0m\u001b[0;34m(\u001b[0m\u001b[0mchr\u001b[0m\u001b[0;34m,\u001b[0m \u001b[0mrange\u001b[0m\u001b[0;34m(\u001b[0m\u001b[0;36m0x0\u001b[0m\u001b[0;34m,\u001b[0m \u001b[0;36m0x10FFFF\u001b[0m\u001b[0;34m)\u001b[0m\u001b[0;34m)\u001b[0m\u001b[0;34m)\u001b[0m \u001b[0;32mfor\u001b[0m \u001b[0mc\u001b[0m \u001b[0;32min\u001b[0m \u001b[0mstr\u001b[0m\u001b[0;34m(\u001b[0m\u001b[0mx\u001b[0m\u001b[0;34m)\u001b[0m\u001b[0;34m)\u001b[0m\u001b[0;34m,\u001b[0m \u001b[0maxis\u001b[0m\u001b[0;34m=\u001b[0m\u001b[0;36m1\u001b[0m\u001b[0;34m)\u001b[0m\u001b[0;34m]\u001b[0m\u001b[0;34m\u001b[0m\u001b[0;34m\u001b[0m\u001b[0m\n\u001b[0m\u001b[1;32m     35\u001b[0m \u001b[0;34m\u001b[0m\u001b[0m\n\u001b[1;32m     36\u001b[0m \u001b[0;31m# Xóa rỗng\u001b[0m\u001b[0;34m\u001b[0m\u001b[0;34m\u001b[0m\u001b[0m\n",
            "\u001b[0;32m/usr/local/lib/python3.10/dist-packages/pandas/core/frame.py\u001b[0m in \u001b[0;36mapply\u001b[0;34m(self, func, axis, raw, result_type, args, **kwargs)\u001b[0m\n\u001b[1;32m   9421\u001b[0m             \u001b[0mkwargs\u001b[0m\u001b[0;34m=\u001b[0m\u001b[0mkwargs\u001b[0m\u001b[0;34m,\u001b[0m\u001b[0;34m\u001b[0m\u001b[0;34m\u001b[0m\u001b[0m\n\u001b[1;32m   9422\u001b[0m         )\n\u001b[0;32m-> 9423\u001b[0;31m         \u001b[0;32mreturn\u001b[0m \u001b[0mop\u001b[0m\u001b[0;34m.\u001b[0m\u001b[0mapply\u001b[0m\u001b[0;34m(\u001b[0m\u001b[0;34m)\u001b[0m\u001b[0;34m.\u001b[0m\u001b[0m__finalize__\u001b[0m\u001b[0;34m(\u001b[0m\u001b[0mself\u001b[0m\u001b[0;34m,\u001b[0m \u001b[0mmethod\u001b[0m\u001b[0;34m=\u001b[0m\u001b[0;34m\"apply\"\u001b[0m\u001b[0;34m)\u001b[0m\u001b[0;34m\u001b[0m\u001b[0;34m\u001b[0m\u001b[0m\n\u001b[0m\u001b[1;32m   9424\u001b[0m \u001b[0;34m\u001b[0m\u001b[0m\n\u001b[1;32m   9425\u001b[0m     def applymap(\n",
            "\u001b[0;32m/usr/local/lib/python3.10/dist-packages/pandas/core/apply.py\u001b[0m in \u001b[0;36mapply\u001b[0;34m(self)\u001b[0m\n\u001b[1;32m    676\u001b[0m             \u001b[0;32mreturn\u001b[0m \u001b[0mself\u001b[0m\u001b[0;34m.\u001b[0m\u001b[0mapply_raw\u001b[0m\u001b[0;34m(\u001b[0m\u001b[0;34m)\u001b[0m\u001b[0;34m\u001b[0m\u001b[0;34m\u001b[0m\u001b[0m\n\u001b[1;32m    677\u001b[0m \u001b[0;34m\u001b[0m\u001b[0m\n\u001b[0;32m--> 678\u001b[0;31m         \u001b[0;32mreturn\u001b[0m \u001b[0mself\u001b[0m\u001b[0;34m.\u001b[0m\u001b[0mapply_standard\u001b[0m\u001b[0;34m(\u001b[0m\u001b[0;34m)\u001b[0m\u001b[0;34m\u001b[0m\u001b[0;34m\u001b[0m\u001b[0m\n\u001b[0m\u001b[1;32m    679\u001b[0m \u001b[0;34m\u001b[0m\u001b[0m\n\u001b[1;32m    680\u001b[0m     \u001b[0;32mdef\u001b[0m \u001b[0magg\u001b[0m\u001b[0;34m(\u001b[0m\u001b[0mself\u001b[0m\u001b[0;34m)\u001b[0m\u001b[0;34m:\u001b[0m\u001b[0;34m\u001b[0m\u001b[0;34m\u001b[0m\u001b[0m\n",
            "\u001b[0;32m/usr/local/lib/python3.10/dist-packages/pandas/core/apply.py\u001b[0m in \u001b[0;36mapply_standard\u001b[0;34m(self)\u001b[0m\n\u001b[1;32m    796\u001b[0m \u001b[0;34m\u001b[0m\u001b[0m\n\u001b[1;32m    797\u001b[0m     \u001b[0;32mdef\u001b[0m \u001b[0mapply_standard\u001b[0m\u001b[0;34m(\u001b[0m\u001b[0mself\u001b[0m\u001b[0;34m)\u001b[0m\u001b[0;34m:\u001b[0m\u001b[0;34m\u001b[0m\u001b[0;34m\u001b[0m\u001b[0m\n\u001b[0;32m--> 798\u001b[0;31m         \u001b[0mresults\u001b[0m\u001b[0;34m,\u001b[0m \u001b[0mres_index\u001b[0m \u001b[0;34m=\u001b[0m \u001b[0mself\u001b[0m\u001b[0;34m.\u001b[0m\u001b[0mapply_series_generator\u001b[0m\u001b[0;34m(\u001b[0m\u001b[0;34m)\u001b[0m\u001b[0;34m\u001b[0m\u001b[0;34m\u001b[0m\u001b[0m\n\u001b[0m\u001b[1;32m    799\u001b[0m \u001b[0;34m\u001b[0m\u001b[0m\n\u001b[1;32m    800\u001b[0m         \u001b[0;31m# wrap results\u001b[0m\u001b[0;34m\u001b[0m\u001b[0;34m\u001b[0m\u001b[0m\n",
            "\u001b[0;32m/usr/local/lib/python3.10/dist-packages/pandas/core/apply.py\u001b[0m in \u001b[0;36mapply_series_generator\u001b[0;34m(self)\u001b[0m\n\u001b[1;32m    812\u001b[0m             \u001b[0;32mfor\u001b[0m \u001b[0mi\u001b[0m\u001b[0;34m,\u001b[0m \u001b[0mv\u001b[0m \u001b[0;32min\u001b[0m \u001b[0menumerate\u001b[0m\u001b[0;34m(\u001b[0m\u001b[0mseries_gen\u001b[0m\u001b[0;34m)\u001b[0m\u001b[0;34m:\u001b[0m\u001b[0;34m\u001b[0m\u001b[0;34m\u001b[0m\u001b[0m\n\u001b[1;32m    813\u001b[0m                 \u001b[0;31m# ignore SettingWithCopy here in case the user mutates\u001b[0m\u001b[0;34m\u001b[0m\u001b[0;34m\u001b[0m\u001b[0m\n\u001b[0;32m--> 814\u001b[0;31m                 \u001b[0mresults\u001b[0m\u001b[0;34m[\u001b[0m\u001b[0mi\u001b[0m\u001b[0;34m]\u001b[0m \u001b[0;34m=\u001b[0m \u001b[0mself\u001b[0m\u001b[0;34m.\u001b[0m\u001b[0mf\u001b[0m\u001b[0;34m(\u001b[0m\u001b[0mv\u001b[0m\u001b[0;34m)\u001b[0m\u001b[0;34m\u001b[0m\u001b[0;34m\u001b[0m\u001b[0m\n\u001b[0m\u001b[1;32m    815\u001b[0m                 \u001b[0;32mif\u001b[0m \u001b[0misinstance\u001b[0m\u001b[0;34m(\u001b[0m\u001b[0mresults\u001b[0m\u001b[0;34m[\u001b[0m\u001b[0mi\u001b[0m\u001b[0;34m]\u001b[0m\u001b[0;34m,\u001b[0m \u001b[0mABCSeries\u001b[0m\u001b[0;34m)\u001b[0m\u001b[0;34m:\u001b[0m\u001b[0;34m\u001b[0m\u001b[0;34m\u001b[0m\u001b[0m\n\u001b[1;32m    816\u001b[0m                     \u001b[0;31m# If we have a view on v, we need to make a copy because\u001b[0m\u001b[0;34m\u001b[0m\u001b[0;34m\u001b[0m\u001b[0m\n",
            "\u001b[0;32m<ipython-input-12-858fb4283764>\u001b[0m in \u001b[0;36m<lambda>\u001b[0;34m(x)\u001b[0m\n\u001b[1;32m     32\u001b[0m \u001b[0;34m\u001b[0m\u001b[0m\n\u001b[1;32m     33\u001b[0m \u001b[0;31m# Loại bỏ các dòng chứa giá trị không phải mã UTF-8\u001b[0m\u001b[0;34m\u001b[0m\u001b[0;34m\u001b[0m\u001b[0m\n\u001b[0;32m---> 34\u001b[0;31m \u001b[0mfiltered_df\u001b[0m \u001b[0;34m=\u001b[0m \u001b[0mdf\u001b[0m\u001b[0;34m[\u001b[0m\u001b[0mdf\u001b[0m\u001b[0;34m.\u001b[0m\u001b[0mapply\u001b[0m\u001b[0;34m(\u001b[0m\u001b[0;32mlambda\u001b[0m \u001b[0mx\u001b[0m\u001b[0;34m:\u001b[0m \u001b[0mall\u001b[0m\u001b[0;34m(\u001b[0m\u001b[0mc\u001b[0m \u001b[0;32min\u001b[0m \u001b[0mset\u001b[0m\u001b[0;34m(\u001b[0m\u001b[0mmap\u001b[0m\u001b[0;34m(\u001b[0m\u001b[0mchr\u001b[0m\u001b[0;34m,\u001b[0m \u001b[0mrange\u001b[0m\u001b[0;34m(\u001b[0m\u001b[0;36m0x0\u001b[0m\u001b[0;34m,\u001b[0m \u001b[0;36m0x10FFFF\u001b[0m\u001b[0;34m)\u001b[0m\u001b[0;34m)\u001b[0m\u001b[0;34m)\u001b[0m \u001b[0;32mfor\u001b[0m \u001b[0mc\u001b[0m \u001b[0;32min\u001b[0m \u001b[0mstr\u001b[0m\u001b[0;34m(\u001b[0m\u001b[0mx\u001b[0m\u001b[0;34m)\u001b[0m\u001b[0;34m)\u001b[0m\u001b[0;34m,\u001b[0m \u001b[0maxis\u001b[0m\u001b[0;34m=\u001b[0m\u001b[0;36m1\u001b[0m\u001b[0;34m)\u001b[0m\u001b[0;34m]\u001b[0m\u001b[0;34m\u001b[0m\u001b[0;34m\u001b[0m\u001b[0m\n\u001b[0m\u001b[1;32m     35\u001b[0m \u001b[0;34m\u001b[0m\u001b[0m\n\u001b[1;32m     36\u001b[0m \u001b[0;31m# Xóa rỗng\u001b[0m\u001b[0;34m\u001b[0m\u001b[0;34m\u001b[0m\u001b[0m\n",
            "\u001b[0;32m<ipython-input-12-858fb4283764>\u001b[0m in \u001b[0;36m<genexpr>\u001b[0;34m(.0)\u001b[0m\n\u001b[1;32m     32\u001b[0m \u001b[0;34m\u001b[0m\u001b[0m\n\u001b[1;32m     33\u001b[0m \u001b[0;31m# Loại bỏ các dòng chứa giá trị không phải mã UTF-8\u001b[0m\u001b[0;34m\u001b[0m\u001b[0;34m\u001b[0m\u001b[0m\n\u001b[0;32m---> 34\u001b[0;31m \u001b[0mfiltered_df\u001b[0m \u001b[0;34m=\u001b[0m \u001b[0mdf\u001b[0m\u001b[0;34m[\u001b[0m\u001b[0mdf\u001b[0m\u001b[0;34m.\u001b[0m\u001b[0mapply\u001b[0m\u001b[0;34m(\u001b[0m\u001b[0;32mlambda\u001b[0m \u001b[0mx\u001b[0m\u001b[0;34m:\u001b[0m \u001b[0mall\u001b[0m\u001b[0;34m(\u001b[0m\u001b[0mc\u001b[0m \u001b[0;32min\u001b[0m \u001b[0mset\u001b[0m\u001b[0;34m(\u001b[0m\u001b[0mmap\u001b[0m\u001b[0;34m(\u001b[0m\u001b[0mchr\u001b[0m\u001b[0;34m,\u001b[0m \u001b[0mrange\u001b[0m\u001b[0;34m(\u001b[0m\u001b[0;36m0x0\u001b[0m\u001b[0;34m,\u001b[0m \u001b[0;36m0x10FFFF\u001b[0m\u001b[0;34m)\u001b[0m\u001b[0;34m)\u001b[0m\u001b[0;34m)\u001b[0m \u001b[0;32mfor\u001b[0m \u001b[0mc\u001b[0m \u001b[0;32min\u001b[0m \u001b[0mstr\u001b[0m\u001b[0;34m(\u001b[0m\u001b[0mx\u001b[0m\u001b[0;34m)\u001b[0m\u001b[0;34m)\u001b[0m\u001b[0;34m,\u001b[0m \u001b[0maxis\u001b[0m\u001b[0;34m=\u001b[0m\u001b[0;36m1\u001b[0m\u001b[0;34m)\u001b[0m\u001b[0;34m]\u001b[0m\u001b[0;34m\u001b[0m\u001b[0;34m\u001b[0m\u001b[0m\n\u001b[0m\u001b[1;32m     35\u001b[0m \u001b[0;34m\u001b[0m\u001b[0m\n\u001b[1;32m     36\u001b[0m \u001b[0;31m# Xóa rỗng\u001b[0m\u001b[0;34m\u001b[0m\u001b[0;34m\u001b[0m\u001b[0m\n",
            "\u001b[0;31mKeyboardInterrupt\u001b[0m: "
          ]
        }
      ],
      "source": [
        "# Đọc dữ liệu\n",
        "df = pd.read_csv(\"/content/spotify-albums_data_2023.csv\"\n",
        ", usecols=lambda column: column not in ['artists', 'artist_7', 'artist_8', 'artist_9', 'artist_10', 'artist_11'])\n",
        "\n",
        "# Lọc các hàng chứa kí tự không mong muốn\n",
        "filtered_df = df[~(df['track_name'].apply(contains_unwanted_chars)) &\n",
        "                 ~(df['album_name'].apply(contains_unwanted_chars)) &\n",
        "                 ~(df['artist_0'].apply(contains_unwanted_chars)) &\n",
        "                 ~(df['artist_1'].apply(contains_unwanted_chars)) &\n",
        "                 ~(df['artist_2'].apply(contains_unwanted_chars)) &\n",
        "                 ~(df['artist_3'].apply(contains_unwanted_chars)) &\n",
        "                 ~(df['artist_4'].apply(contains_unwanted_chars)) &\n",
        "                 ~(df['artist_5'].apply(contains_unwanted_chars)) &\n",
        "                 ~(df['artist_6'].apply(contains_unwanted_chars)) &\n",
        "                 ~(df['label'].apply(contains_unwanted_chars)) ]\n",
        "\n",
        "# Loại bỏ các hàng có giá trị '#NAME?' trong bất kỳ cột nào\n",
        "filtered_df = filtered_df[(filtered_df != '#NAME?')]\n",
        "\n",
        "# Xóa những dòng có giá trị trong cột 'album_name' bắt đầu bằng số hoặc kí tự đặc biệt không phải là chữ cái\n",
        "pattern = r'^[^a-zA-Z]'  # Kí tự bắt đầu không phải là chữ cái\n",
        "filtered_df = filtered_df[~filtered_df['album_name'].astype(str).str.match(pattern)]\n",
        "filtered_df = filtered_df[~filtered_df['track_name'].astype(str).str.match(pattern)]\n",
        "filtered_df = filtered_df[~filtered_df['artist_0'].astype(str).str.match(pattern)]\n",
        "\n",
        "filtered_df = filtered_df[~filtered_df['album_name'].astype(str).str.contains('\\$')]\n",
        "filtered_df = filtered_df[~filtered_df['track_name'].astype(str).str.contains('\\$')]\n",
        "filtered_df = filtered_df[~filtered_df['artist_0'].astype(str).str.contains('\\$')]\n",
        "\n",
        "# Loại bỏ các dòng chứa ký tự không phải ASCII\n",
        "filtered_df = filtered_df[filtered_df.applymap(lambda x: all(ord(c) < 128 for c in str(x)))]\n",
        "\n",
        "# Lưu DataFrame đã lọc vào file CSV mới\n",
        "output_path = 'filtered_album.xlsx'\n",
        "filtered_df.to_excel(output_path, index=False)"
      ]
    },
    {
      "cell_type": "code",
      "source": [
        "df = pd.read_excel(\"/content/filtered_album.xlsx\")\n",
        "\n",
        "# Xóa rỗng\n",
        "df = df.dropna(subset=['track_name', 'album_name', 'label', 'artist_0'])\n",
        "\n",
        "# Các cột cần kiểm tra và làm sạch\n",
        "columns_to_check = ['track_name', 'album_name', 'label', 'artist_0', 'artist_1', 'artist_2', 'artist_3', 'artist_4', 'artist_5', 'artist_6']\n",
        "\n",
        "# Xác định mẫu regex để tìm các kí tự đặc biệt không phải chữ\n",
        "pattern = re.compile(r'[^a-zA-Z]')\n",
        "\n",
        "# Lặp qua từng cột và xóa các dòng có kí tự đặc biệt không phải chữ\n",
        "for column in columns_to_check:\n",
        "    df = df[~df[column].astype(str).str.contains(pattern)]\n",
        "\n",
        "output_path = 'filtered_album1.xlsx'\n",
        "df.to_excel(output_path, index=False)"
      ],
      "metadata": {
        "id": "_xigJ0JLVFCe"
      },
      "execution_count": null,
      "outputs": []
    },
    {
      "cell_type": "code",
      "source": [
        "df = pd.read_excel(\"/content/filtered_album.xlsx\")\n",
        "\n",
        "# Xóa rỗng\n",
        "df = df.dropna(subset=['track_name', 'album_name', 'release_date', 'label', 'artist_0'])\n",
        "\n",
        "\n",
        "# Chuyển cột release_date thành kiểu datetime và loại bỏ thông tin về múi giờ\n",
        "df['release_date'] = pd.to_datetime(df['release_date']).dt.tz_localize(None)\n",
        "\n",
        "# Lọc ra những dòng có release_date từ năm 1990 trở về trước\n",
        "df = df[df['release_date'].dt.year > 2000]\n",
        "\n",
        "# Ghi lại dữ liệu vào tệp Excel mới\n",
        "df.to_excel('cleaned_album.xlsx', index=False)"
      ],
      "metadata": {
        "id": "pnnxp-dPsIWU"
      },
      "execution_count": null,
      "outputs": []
    },
    {
      "cell_type": "code",
      "source": [],
      "metadata": {
        "id": "iwNcOfnFMZOd"
      },
      "execution_count": null,
      "outputs": []
    },
    {
      "cell_type": "markdown",
      "metadata": {
        "id": "yQXLjVWzqmFa"
      },
      "source": [
        "**Xóa kí tự đầu**"
      ]
    },
    {
      "cell_type": "code",
      "execution_count": null,
      "metadata": {
        "id": "VvCPeNpAqsAU"
      },
      "outputs": [],
      "source": [
        "df = pd.read_excel(\"/content/join.xlsx\")\n",
        "\n",
        "# Xóa những dòng có giá trị trong cột 'album_name' bắt đầu bằng số hoặc kí tự đặc biệt không phải là chữ cái\n",
        "pattern = r'^[^a-zA-Z]'  # Kí tự bắt đầu không phải là chữ cái\n",
        "df = df[~df['album_name'].astype(str).str.match(pattern)]\n",
        "df = df[~df['track_name'].astype(str).str.match(pattern)]\n",
        "df = df[~df['artist_name'].astype(str).str.match(pattern)]\n",
        "\n",
        "df = df[~df['album_name'].astype(str).str.contains('\\$')]\n",
        "df = df[~df['track_name'].astype(str).str.contains('\\$')]\n",
        "df = df[~df['artist_name'].astype(str).str.contains('\\$')]\n",
        "\n",
        "df = df.dropna()\n",
        "\n",
        "output_path = 'filtered_join.xlsx'\n",
        "df.to_excel(output_path, index=False)"
      ]
    },
    {
      "cell_type": "code",
      "execution_count": null,
      "metadata": {
        "id": "hpL1fCecwA2c"
      },
      "outputs": [],
      "source": []
    }
  ],
  "metadata": {
    "colab": {
      "provenance": []
    },
    "kernelspec": {
      "display_name": "Python 3",
      "name": "python3"
    },
    "language_info": {
      "name": "python"
    }
  },
  "nbformat": 4,
  "nbformat_minor": 0
}